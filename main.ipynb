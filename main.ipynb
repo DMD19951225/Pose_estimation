{
  "cells": [
    {
      "cell_type": "code",
      "execution_count": null,
      "metadata": {
        "colab": {
          "background_save": true
        },
        "id": "5UFZ8I0NDOc7"
      },
      "outputs": [],
      "source": [
        "import cv2\n",
        "import mediapipe as mp\n",
        "import time"
      ]
    },
    {
      "cell_type": "code",
      "execution_count": null,
      "metadata": {},
      "outputs": [],
      "source": [
        "mpDraw = mp.solutions.drawing_utils\n",
        "mpPose = mp.solutions.pose\n",
        "pose = mpPose.Pose()\n",
        "\n",
        "cap = cv2.VideoCapture('3.mp4')\n",
        "pTime = 0\n",
        "\n",
        "while True:\n",
        "    success, img = cap.read()\n",
        "    img = cv2.resize(img, (480, 640))\n",
        "    imgRGB = cv2.cvtColor(img, cv2.COLOR_BGR2RGB)\n",
        "    results = pose.process(imgRGB)\n",
        "    print(results.pose_landmarks)\n",
        "\n",
        "    if results.pose_landmarks:\n",
        "        mpDraw.draw_landmarks(img, results.pose_landmarks, mpPose.POSE_CONNECTIONS)\n",
        "        for id, lm in enumerate(results.pose_landmarks.landmark):\n",
        "            h, w, c = img.shape\n",
        "            print(id, lm)\n",
        "            cx, cy = int(lm.x * w), int(lm.y * h)\n",
        "            cv2.circle(img, (cx, cy), 2, (0, 0, 255), cv2.FILLED)\n",
        "\n",
        "    cTime = time.time()\n",
        "    fps = 1/(cTime-pTime)\n",
        "    pTime = cTime\n",
        "\n",
        "    cv2.putText(img, str(int(fps)), (70, 50), cv2.FONT_HERSHEY_PLAIN, 3,\n",
        "                (255, 0, 0), 3)\n",
        "    cv2.imshow('Image', img)\n",
        "    cv2.waitKey(1)"
      ]
    }
  ],
  "metadata": {
    "accelerator": "GPU",
    "colab": {
      "collapsed_sections": [],
      "provenance": []
    },
    "kernelspec": {
      "display_name": "Python 3",
      "name": "python3"
    },
    "language_info": {
      "name": "python"
    }
  },
  "nbformat": 4,
  "nbformat_minor": 0
}
